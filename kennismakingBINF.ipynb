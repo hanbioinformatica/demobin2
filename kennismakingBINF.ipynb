{
 "cells": [
  {
   "cell_type": "markdown",
   "metadata": {},
   "source": [
    "# Kennismaking Bio-informatica\n",
    "\n",
    "Leuk dat je meedoet met de kennismaking Bio-informatica!\n",
    "We wensen je veel plezier met de opdrachten en hopen dat deze opdracht jou in je studiekeuze helpt.\n",
    "Als je vragen hebt nadien neem dan contact op met bio-informatica_at_han.nl\n",
    "\n",
    "## Hoe werkt dit Jupyter Notebook?\n",
    "Zoals je ziet bestaat dit Notebook uit verschillende soorten velden. Je hebt velden met tekst en velden met Python code. Je kan de velden met code aanpassen door er op te klikken, velden met tekst kunnen aangepast worden door dubbel klikken. Als je klaar bent met de aanpassing kan je het veld uitvoeren met **Shift + Enter**. Probeer het maar eens, voer het veld hier onder uit."
   ]
  },
  {
   "cell_type": "code",
   "metadata": {
    "pycharm": {
     "is_executing": false,
     "name": "#%% \n"
    },
    "scrolled": true
   },
   "source": [
    "print(\"Hello World!\")"
   ],
   "execution_count": null,
   "outputs": []
  },
  {
   "cell_type": "markdown",
   "metadata": {},
   "source": [
    "Zoals je ziet komt de uitkomst van de code in beeld. In het geval hierboven vragen we Python om de woorden *Hello World!* te tonen in het scherm. Als je nieuwsgierig bent kan je ook eens op tekst dubbel klikken. Dan zie je dat de tekst ook zijn eigen \"code\" heeft om de opmaak aan te geven.\n",
    "\n",
    "Hieronder gaan we verder met de opdrachten van vandaag. Je vind de volgende opdrachten:\n",
    "1. Introductie Python\n",
    "2. DNA\n",
    "3. Eiwit\n",
    "4. Resultaten en discussie\n",
    "5. Meer grafieken"
   ]
  },
  {
   "cell_type": "markdown",
   "metadata": {},
   "source": [
    "## Opdracht 1: Introductie Python\n",
    "Laten we beginnen door kennis te maken met de programmeertaal Python. Tijdens het werkcollege is besproken dat Python een van de programmeertalen is waar we mee werken bij Bio-informatica en waarom. Nu gaan we leren hoe we ermee kunnen werken. \n",
    "\n",
    "Als het goed is heb je kennis gemaakt met Python via Codecademy en weet je al een beetje hoe bepaalde dingen werken. In deze opdracht geven we een korte samenvatting van wat je daar geleerd hebt, en laten we je kennismaken met iets dat je nog niet eerder geleerd hebt. "
   ]
  },
  {
   "cell_type": "markdown",
   "metadata": {},
   "source": [
    "### Prints\n",
    "We beginnen met prints. Een print is een manier om een resultaat van je programma naar het scherm te sturen. Codecademy heeft je uitgelegd wat het verschil is tussen Python2 en Python3. Wij werken met Python3, dus we gaan prints maken die aan deze eis voldoen.\n",
    "\n",
    "De **syntax** voor printen is `print(\"iets\")`.\n",
    "\n",
    "De syntax zijn de \"taalregels\" van het programmeren, ofwel, hoe je bepaalde dingen moet schrijven.\n",
    "\n",
    "Maak een print van je eigen naam."
   ]
  },
  {
   "cell_type": "code",
   "execution_count": null,
   "outputs": [],
   "source": [],
   "metadata": {
    "collapsed": false,
    "pycharm": {
     "name": "#%%\n"
    }
   }
  },
  {
   "cell_type": "markdown",
   "source": [
    "\n",
    "### Strings\n",
    "Voor prints zijn strings belangrijk, maar ook voor verschillende analyses. Weet je nog wat een string is?"
   ],
   "metadata": {
    "collapsed": false,
    "pycharm": {
     "name": "#%% md\n"
    }
   }
  },
  {
   "cell_type": "code",
   "metadata": {
    "pycharm": {
     "is_executing": false,
     "name": "#%%\n"
    }
   },
   "source": [
    "# Antwoord:"
   ],
   "execution_count": null,
   "outputs": []
  },
  {
   "cell_type": "markdown",
   "metadata": {},
   "source": [
    "De syntax voor een strings is `\"...\"`\n",
    "\n",
    "Maak een string van het woord *Bio-informatica* en print deze. "
   ]
  },
  {
   "cell_type": "code",
   "metadata": {
    "pycharm": {
     "is_executing": false,
     "name": "#%%\n"
    }
   },
   "source": [],
   "execution_count": null,
   "outputs": []
  },
  {
   "cell_type": "markdown",
   "metadata": {},
   "source": [
    "### Variabelen\n",
    "Variabelen zijn een manier van opslaan van data. Je kan ze zien als een doos waar je van alles in kan stoppen. Je weet waar je de doos neerzet en wat er in zit omdat je er netjes een label op plakt. Zo kan een variabele een getal zijn, maar ook tekst, of zelfs iets complex zoals een lijst.\n",
    "\n",
    "De syntax voor een variabele is\n",
    "`var = 'iets'`\n",
    "In dit geval koppelen we de variabele naam `var` aan de string `'iets'`.\n",
    "\n",
    "Zet nu je eigen naam in een variabele."
   ]
  },
  {
   "cell_type": "code",
   "execution_count": null,
   "outputs": [],
   "source": [
    "var = \" \""
   ],
   "metadata": {
    "collapsed": false,
    "pycharm": {
     "name": "#%%\n"
    }
   }
  },
  {
   "cell_type": "markdown",
   "metadata": {},
   "source": [
    "### Indexen\n",
    "Strings zijn tekst, maar stiekem zijn strings een heleboel letters die aan elkaar geplakt zijn. Tekst heeft een lengte, en we kunnen een stukje van de tekst bekijken. Dit komt doordat tekst een zogenaamde index heeft. Dat woord ken je wellicht wel van Engels, het is het register van een boek. Net als dat je in een boek kan opzoeken op welke pagina een bepaalde term staat, kan je met een index opzoeken welke letter er op een bepaalde plek in het woord staat.\n",
    "\n",
    "De syntax van een index is met behulp van blokhaken: `[0]`\n",
    "\n",
    "Dit betekend index 0, wat het eerste letter uit het woord betreft. Dat komt omdat computers beginnen met tellen bij 0 in plaats van 1. Kijk maar eens naar het voorbeeld hieronder. Zoals je ziet moet de de blokhaken direct achter de variabele aan typen"
   ]
  },
  {
   "cell_type": "code",
   "metadata": {
    "pycharm": {
     "is_executing": false,
     "name": "#%%\n"
    }
   },
   "source": [
    "woord = \"alfabet\"\n",
    "print(woord[0])"
   ],
   "execution_count": null,
   "outputs": []
  },
  {
   "cell_type": "markdown",
   "metadata": {},
   "source": [
    "Je kan ook meer dan 1 letter uit een woord bekijken, door een zogenaamde slice te nemen. Dit betekend letterlijk een plakje, net als een plakje cake. Kijk maar eens hoe dat hieronder gaat."
   ]
  },
  {
   "cell_type": "code",
   "metadata": {
    "pycharm": {
     "is_executing": false,
     "name": "#%%\n"
    }
   },
   "source": [
    "print(woord[0:2])\n",
    "# Weet je nog dat de computer begint met tellen bij 0?"
   ],
   "execution_count": null,
   "outputs": []
  },
  {
   "cell_type": "markdown",
   "metadata": {},
   "source": [
    "Wat denk je dat `woord[0:2]` doet?"
   ]
  },
  {
   "cell_type": "code",
   "execution_count": 5,
   "metadata": {
    "pycharm": {
     "is_executing": false
    }
   },
   "outputs": [],
   "source": [
    "# Antwoord: "
   ]
  },
  {
   "cell_type": "markdown",
   "metadata": {},
   "source": [
    "De syntax voor een slice is dus `[start:stop]`. Kan je nu van woord de laatste twee letters printen?"
   ]
  },
  {
   "cell_type": "code",
   "metadata": {
    "pycharm": {
     "is_executing": false,
     "name": "#%%\n"
    }
   },
   "source": [
    "# Vul aan tussen de [ ]\n",
    "print(woord[])"
   ],
   "execution_count": null,
   "outputs": []
  },
  {
   "cell_type": "markdown",
   "metadata": {},
   "source": [
    "### Samenvoegen\n",
    "Nu we iets meer weten over wat strings zijn en hoe je ermee kan werken, kunnen we nog een laatste trucje leren. Je kan strings namelijk ook samenvoegen, concateneren noemen we dat. Dit samenvoegen gaat heel makkelijk, met een `+` teken.\n",
    "\n",
    "De syntax van samenvoegen is `woord1 + woord2`\n",
    "\n",
    "Woord1 en woord2 kunnen hierbij strings zijn, maar mogen ook variabelen zijn die strings bevatten. Het resultaat van de samenvoeging kan je ook weer printen of in een variabele opslaan. \n",
    "\n",
    "Probeer het eens door de code hieronder aan te vullen. Maak een aparte variabele voor je voornaam en je achternaam en voeg deze samen in de variabele `naam_samenvoeg`."
   ]
  },
  {
   "cell_type": "code",
   "metadata": {
    "pycharm": {
     "is_executing": false,
     "name": "#%%\n"
    }
   },
   "source": [
    "voornaam = \n",
    "achternaam = \n",
    "naam_samenvoeg = \n",
    "print(naam_samenvoeg)"
   ],
   "execution_count": null,
   "outputs": []
  },
  {
   "cell_type": "markdown",
   "metadata": {},
   "source": [
    "### Functies\n",
    "Als laatste onderdeel gaan we het hebben over functies. Functies ken je wellicht wel van wiskunde. Het zijn wiskundige formules waarbij de input altijd gekoppelt is aan een output. Ofwel, als je er een geldig getal in stopt komt er ook altijd iets uit.\n",
    "\n",
    "Functies in programmeren zijn niet heel anders. Het is een verzameling van verschillende stukjes code die samen een bewerking uitvoeren op de input. Een functie in Python bestaat altijd uit twee delen. Het gedeelte dat de functie beschrijft, ofwel wat er gebeurt met de input. Dit noem je de *definitie*. Het tweede deel is wat men de *aanroep* noemt. Hierin geef je de functie een wezenlijke input. \n",
    "\n",
    "Kijk maar eens naar het voorbeeld hieronder en benoem de onderdelen."
   ]
  },
  {
   "cell_type": "code",
   "execution_count": null,
   "metadata": {
    "pycharm": {
     "is_executing": false
    }
   },
   "outputs": [],
   "source": [
    "# aanroep of definitie? \n",
    "# Antwoord: \n",
    "def functie1(x):\n",
    "    y = x+1\n",
    "    return y\n",
    "\n",
    "\n",
    "# aanroep of definitie? \n",
    "# Antwoord: \n",
    "uitkomst = functie1(2)\n",
    "print(uitkomst)"
   ]
  },
  {
   "cell_type": "markdown",
   "metadata": {},
   "source": [
    "Heb je een idee wat deze functie zou kunnen doen?"
   ]
  },
  {
   "cell_type": "code",
   "execution_count": null,
   "metadata": {
    "pycharm": {
     "is_executing": false
    }
   },
   "outputs": [],
   "source": [
    "# Antwoord: "
   ]
  },
  {
   "cell_type": "markdown",
   "metadata": {},
   "source": [
    "## Opdracht 2: DNA\n",
    "Zoals besproken in de casus zijn we op zoek naar wat een slangengif giftig maakt. Na een aantal analyses wordt het volgende DNA geÃ¯soleerd. Maar wat is het precies? Hoort het bij het slangengif? En waarom werkt het gif zo snel?\n",
    "\n",
    "De DNA sequentie: \n",
    "\n",
    "`TCCGAAAAAGATCGCAAGATGAAAACTCTGCTGCTGACCTTGGTGGTGGTGACAATCGTGTGCCTGGACT\n",
    "TAGGATACACCAGGATATGTTTTAACCATCAGTCATCGCAACCGCAAACCACTAAAACTTGTTCACCTGG\n",
    "GGAGAGCTCTTGCTATAACAAGCAATGGAGCGATTTCCGTGGAACTATAATTGAAAGGGGATGTGGTTGC\n",
    "CCCACAGTGAAGCCCGGTATTAAACTCAGTTGTTGCGAATCAGAGGTCTGCAACAATTAGCTCTACGAGT\n",
    "GGCTAAATTCCTTGAGTTTTACTCTCATTCATCAAGGACCATCCTTCAAAATGTATGCTTCTGGCCTTTA\n",
    "CCACCACATGGTCCATCATCATCCCCCTCTCCCCTGCTGTCTTTGACACCTCAACATCTTTCCCTTTTCT\n",
    "CTTGATCTGTAAGTTTCCTTCTGCTAGTTCTGTAGTTTGAGAATCAAATAAACCTCAGCATTC`"
   ]
  },
  {
   "cell_type": "code",
   "execution_count": null,
   "metadata": {
    "pycharm": {
     "is_executing": false
    }
   },
   "outputs": [],
   "source": [
    "dnasequentie = 'TCCGAAAAAGATCGCAAGATGAAAACTCTGCTGCTGACCTTGGTGGTGGTGACAATCGTGTGCCTGGACTTAGGATACACCAGGATATGTTTTAACCATCAGTCATCGCAACCGCAAACCACTAAAACTTGTTCACCTGGGGAGAGCTCTTGCTATAACAAGCAATGGAGCGATTTCCGTGGAACTATAATTGAAAGGGGATGTGGTTGCCCCACAGTGAAGCCCGGTATTAAACTCAGTTGTTGCGAATCAGAGGTCTGCAACAATTAGCTCTACGAGTGGCTAAATTCCTTGAGTTTTACTCTCATTCATCAAGGACCATCCTTCAAAATGTATGCTTCTGGCCTTTACCACCACATGGTCCATCATCATCCCCCTCTCCCCTGCTGTCTTTGACACCTCAACATCTTTCCCTTTTCTCTTGATCTGTAAGTTTCCTTCTGCTAGTTCTGTAGTTTGAGAATCAAATAAACCTCAGCATTC'"
   ]
  },
  {
   "cell_type": "markdown",
   "metadata": {},
   "source": [
    "Open http://www.ncbi.nlm.nih.gov/blast/Blast.cgi in de internet browser. Hier kun je via â€˜nucleotide blastâ€™ zoeken in databases met DNA gegevens. \n",
    "\n",
    "Kopieer de sequentie uit de tekst en plak hem in het zoekscherm. Klik op de BLAST-knop onderaan en wacht even tot het resultaat er is. Er zijn meerdere resultaten gevonden die overeenkomst vertonen met onze sequentie. De eerste treffer (even naar beneden scrollen) is zelfs identiek aan ons DNA.Â "
   ]
  },
  {
   "cell_type": "markdown",
   "metadata": {},
   "source": [
    "Wat is de naam van het gen? Voer hieronder de naam van het gen in tussen de \" \"."
   ]
  },
  {
   "cell_type": "code",
   "execution_count": null,
   "metadata": {
    "pycharm": {
     "is_executing": false
    }
   },
   "outputs": [],
   "source": [
    "gen = \"\""
   ]
  },
  {
   "cell_type": "markdown",
   "metadata": {},
   "source": [
    "Uit welk organisme komt het gen? Voer dit ook in tussen de \" \"."
   ]
  },
  {
   "cell_type": "code",
   "execution_count": null,
   "metadata": {
    "pycharm": {
     "is_executing": false
    }
   },
   "outputs": [],
   "source": [
    "organisme = \"\""
   ]
  },
  {
   "cell_type": "markdown",
   "metadata": {},
   "source": [
    "Wat is de functie van het gen? Ook hier weer tussen de \" \" invoeren."
   ]
  },
  {
   "cell_type": "code",
   "execution_count": null,
   "metadata": {
    "pycharm": {
     "is_executing": false
    }
   },
   "outputs": [],
   "source": [
    "functie = \"\""
   ]
  },
  {
   "cell_type": "markdown",
   "metadata": {},
   "source": [
    "Dat willen we natuurlijk ook netjes even op een rijtje hebben staan. Maak een print statement dat al deze informatie netjes op een rijtje zet voor ons. De uitvoer kan er bijvoorbeeld zo uitzien:\n",
    "\n",
    "*Het gen ... heeft de functie ... en is betrokken bij het gif van de slang ...*\n",
    "\n",
    "Met natuurlijk op de ... de juiste informatie."
   ]
  },
  {
   "cell_type": "code",
   "execution_count": null,
   "metadata": {
    "pycharm": {
     "is_executing": false
    }
   },
   "outputs": [],
   "source": [
    "# Schrijf hieronder je eigen code"
   ]
  },
  {
   "cell_type": "markdown",
   "metadata": {},
   "source": [
    "## Opdracht 3: Eiwit\n",
    "In het hoorcollege is besproken hoe eiwitten uit DNA vertaald worden. Dit gebeurt natuurlijk allemaal netjes in onze cellen. Als we de DNA sequentie weten, weten we ook de eiwit sequentie. Dat kunnen we natuurlijk ook uitprogrammeren.\n",
    "\n",
    "In opdracht 1 hebben we besproken wat een functie is en hoe deze er uit zien. De docent heeft hieronder een functie voor jullie geschreven die de vertaling voor je gaat uitvoeren, maar je moet hem nog wel even zelf aanroepen."
   ]
  },
  {
   "cell_type": "code",
   "execution_count": null,
   "metadata": {
    "pycharm": {
     "is_executing": false
    }
   },
   "outputs": [],
   "source": [
    "# Dit is de functie. Je hoeft niets te veranderen aan deze code, maar moet dit veld wel uitvoeren.\n",
    "# Anders kan Python de code niet vinden.\n",
    "def vertaal(dnasequentie):\n",
    "    \n",
    "    dnasequentie = dnasequentie.lower()\n",
    "    \n",
    "    start_codon = 'atg'\n",
    "    stop_codons = ['taa','tag','tga']\n",
    "    \n",
    "    code = {'ttt': 'F', 'tct': 'S', 'tat': 'Y', 'tgt': 'C',\n",
    "            'ttc': 'F', 'tcc': 'S', 'tac': 'Y', 'tgc': 'C',\n",
    "            'tta': 'L', 'tca': 'S', 'taa': '*', 'tga': '*',\n",
    "            'ttg': 'L', 'tcg': 'S', 'tag': '*', 'tgg': 'W',\n",
    "            'ctt': 'L', 'cct': 'P', 'cat': 'H', 'cgt': 'R',\n",
    "            'ctc': 'L', 'ccc': 'P', 'cac': 'H', 'cgc': 'R',\n",
    "            'cta': 'L', 'cca': 'P', 'caa': 'Q', 'cga': 'R',\n",
    "            'ctg': 'L', 'ccg': 'P', 'cag': 'Q', 'cgg': 'R',\n",
    "            'att': 'I', 'act': 'T', 'aat': 'N', 'agt': 'S',\n",
    "            'atc': 'I', 'acc': 'T', 'aac': 'N', 'agc': 'S',\n",
    "            'ata': 'I', 'aca': 'T', 'aaa': 'K', 'aga': 'R',\n",
    "            'atg': 'M', 'acg': 'T', 'aag': 'K', 'agg': 'R', \n",
    "            'gtt': 'V', 'gct': 'A', 'gat': 'D', 'ggt': 'G',\n",
    "            'gtc': 'V', 'gcc': 'A', 'gac': 'D', 'ggc': 'G',\n",
    "            'gta': 'V', 'gca': 'A', 'gaa': 'E', 'gga': 'G',\n",
    "            'gtg': 'V', 'gcg': 'A', 'gag': 'E', 'ggg': 'G'}\n",
    "    \n",
    "    start_positie = dnasequentie.find(start_codon)\n",
    "    dnasequentie = dnasequentie[start_positie:]\n",
    "    eiwitsequentie = ''\n",
    "    \n",
    "    for i in range(0, len(dnasequentie), 3):\n",
    "        codon = dnasequentie[i:i+3]\n",
    "        if codon not in stop_codons:\n",
    "            eiwitsequentie = eiwitsequentie + code[codon]\n",
    "        else:\n",
    "            return eiwitsequentie"
   ]
  },
  {
   "cell_type": "markdown",
   "metadata": {},
   "source": [
    "Er gebeuren een heleboel dingen in deze functie! Kan je bedenken wat deze functie doet? Schrijf het hieronder dan even op."
   ]
  },
  {
   "cell_type": "code",
   "execution_count": null,
   "metadata": {
    "pycharm": {
     "is_executing": false
    }
   },
   "outputs": [],
   "source": [
    "# Functie:"
   ]
  },
  {
   "cell_type": "markdown",
   "metadata": {},
   "source": [
    "Nu je begrijpt wat de functie doet kan je hem aan gaan roepen. Hiervoor moet je de DNA sequentie als invoer geven. Vergeet niet een aparte variabele te maken voor de DNA sequentie. Deze kan je kopieren uit de vorige opdracht.\n",
    "\n",
    "**Hint:** mocht je de vorige vraag niet hebben kunnen beantwoorden, wellicht lukt het met de uitkomst van de aanroep wel."
   ]
  },
  {
   "cell_type": "code",
   "execution_count": null,
   "metadata": {
    "pycharm": {
     "is_executing": false
    }
   },
   "outputs": [],
   "source": [
    "# Schrijf hieronder de aanroep van de functie. "
   ]
  },
  {
   "cell_type": "markdown",
   "metadata": {},
   "source": [
    "Met behulp van `len(dnasequentie)` kan je de lengte van de dna sequentie uitrekenen. Dit kan je ook doen voor het eiwit. Hoeveel aminozuren heeft het eiwit?\n",
    "\n",
    "**Hint:** Weet je nog hoe je aan de eiwitsequentie kwam? Spiek anders hierboven even."
   ]
  },
  {
   "cell_type": "code",
   "execution_count": null,
   "metadata": {
    "pycharm": {
     "is_executing": false
    }
   },
   "outputs": [],
   "source": [
    "# Maak een print van de lengte van de dna sequentie"
   ]
  },
  {
   "cell_type": "markdown",
   "metadata": {},
   "source": [
    "## Opdracht 4: Resultaten en discussie\n",
    "Je bent al een heel eind op weg naar een mooi resultaat. Je hebt een DNA sequentie die je gecontroleerd hebt, en een eiwit sequentie uit de vertaling gekregen. Nu willen we dit graag met een grafiek in beeld brengen.\n",
    "\n",
    "De code voor het maken van de grafiek hoef je niet te schrijven, maar er moet wel vooraf wat gecodeert worden. De volgende stappen mag je programmeren:\n",
    "- Neem het coderende stuk van het dna (een slice van positie 19 tot 270)\n",
    "- Tel hoe vaak de verschillende nucleotiden hier in voorkomen\n",
    "- Sla deze getallen op in de losse variabelen (bijv. `tel_A = 45`)\n",
    "\n",
    "Het tellen van het voorkomen van een specifieke letter in een woord kan met `.count()`\n",
    "Bijvoorbeeld voor het tellen van de letter *x* in een woord kan je deze syntax gebruiken: `tel_x = woord.count('x')`"
   ]
  },
  {
   "cell_type": "code",
   "execution_count": null,
   "metadata": {
    "pycharm": {
     "is_executing": false
    }
   },
   "outputs": [],
   "source": [
    "# Schrijf hieronder de benodigde code\n",
    "dna_coding =\n",
    "print(dna_coding)\n",
    "\n",
    "tel_A = \n",
    "tel_T = \n",
    "tel_C = \n",
    "tel_G = "
   ]
  },
  {
   "cell_type": "markdown",
   "metadata": {},
   "source": [
    "Controleer of je geknipte sequentie overeenkomt met:\n",
    "\n",
    "`ATGAAAACTCTGCTGCTGACCTTGGTGGTGGTGACAATCGTGTGCCTGGACTTAGGATACACCAGGATAT\n",
    "GTTTTAACCATCAGTCATCGCAACCGCAAACCACTAAAACTTGTTCACCTGGGGAGAGCTCTTGCTATAA\n",
    "CAAGCAATGGAGCGATTTCCGTGGAACTATAATTGAAAGGGGATGTGGTTGCCCCACAGTGAAGCCCGGT\n",
    "ATTAAACTCAGTTGTTGCGAATCAGAGGTCTGCAACAATTAG`\n",
    "\n",
    "Zo niet, controleer dan of je de goede slice gemaakt hebt.\n",
    "\n",
    "Nu we al deze gegevens hebben, kunnen we ze in een grafiek veranderen met de code hieronder."
   ]
  },
  {
   "cell_type": "markdown",
   "metadata": {
    "pycharm": {
     "name": "#%% md\n"
    }
   },
   "source": [
    "Om grafieken in Python te kunnen tekenen moeten we een aparte module hiervoor installeren.\n",
    "Dat doen we met de volgende opdracht:"
   ]
  },
  {
   "cell_type": "code",
   "execution_count": null,
   "metadata": {
    "pycharm": {
     "is_executing": false,
     "name": "#%%\n"
    }
   },
   "outputs": [],
   "source": [
    "# Installatie van de modules op de server voor het tekenen van grafieken \n",
    "!pip install matplotlib\n",
    "import matplotlib.pyplot as plt"
   ]
  },
  {
   "cell_type": "code",
   "execution_count": null,
   "metadata": {
    "pycharm": {
     "is_executing": false
    }
   },
   "outputs": [],
   "source": [
    "# Aan de code hieronder hoef je niets te veranderen, maar deze moet je wel uitvoeren om het resultaat te zien.\n",
    "import matplotlib.pyplot as plt\n",
    "data = [tel_A, tel_T, tel_C, tel_G]\n",
    "labels = ['A','T','C','G']\n",
    "plt.pie(data, labels=labels,autopct='%.0f%%')\n",
    "plt.show()\n",
    "# Soms toont hij de grafiek niet als je dit veld de eerste keer uitvoert.\n",
    "# Voer hem dan gewoon nogmaals uit."
   ]
  },
  {
   "cell_type": "markdown",
   "metadata": {},
   "source": [
    "Kun je wellicht beredeneren wat de code hierboven doet?"
   ]
  },
  {
   "cell_type": "code",
   "execution_count": null,
   "metadata": {
    "pycharm": {
     "is_executing": false
    }
   },
   "outputs": [],
   "source": [
    "# Antwoord:"
   ]
  },
  {
   "cell_type": "markdown",
   "metadata": {},
   "source": [
    "Hoeveel procent G en C zie je? "
   ]
  },
  {
   "cell_type": "code",
   "execution_count": null,
   "metadata": {
    "pycharm": {
     "is_executing": false
    }
   },
   "outputs": [],
   "source": [
    "# Antwoord:"
   ]
  },
  {
   "cell_type": "markdown",
   "metadata": {},
   "source": [
    "Wat betekent dit GC percentage?"
   ]
  },
  {
   "cell_type": "code",
   "execution_count": null,
   "metadata": {
    "pycharm": {
     "is_executing": false
    }
   },
   "outputs": [],
   "source": [
    "# Antwoord:"
   ]
  },
  {
   "cell_type": "markdown",
   "metadata": {},
   "source": [
    "## Opdracht 5: Meer grafieken"
   ]
  },
  {
   "cell_type": "markdown",
   "metadata": {},
   "source": [
    "Als je klaar bent met de bovenstaande opdrachten en het leuk vind om nog meer te oefenen met grafieken, kunnen we ook een ander soort grafiek maken. Dit keer gaan we een staaf diagram maken. Hieronder zie je een voorbeeld met code."
   ]
  },
  {
   "cell_type": "code",
   "execution_count": null,
   "metadata": {
    "pycharm": {
     "is_executing": false
    }
   },
   "outputs": [],
   "source": [
    "x_coordinaat = [1,2] # positie op de x-as\n",
    "y_coordinaat = [177,76] # hoogte van de staaf\n",
    "\n",
    "labels = ['jongens', 'meisjes']\n",
    "kleuren = ['lightblue','pink']\n",
    "\n",
    "plt.bar(x_coordinaat, y_coordinaat, color=kleuren, tick_label=labels, width=0.5)\n",
    "plt.title('Aantal jongens en meisjes bij de opleiding Bio-informatica')\n",
    "plt.show()"
   ]
  },
  {
   "cell_type": "markdown",
   "metadata": {},
   "source": [
    "Nu mag je zelf een staaf diagram gaan maken die de aantallen A, T, G en C in de DNA sequentie weergeeft. Kijk goed naar de bovenstaande code en probeer het hieronder!"
   ]
  },
  {
   "cell_type": "code",
   "execution_count": null,
   "metadata": {
    "pycharm": {
     "is_executing": false
    }
   },
   "outputs": [],
   "source": [
    "# Schrijf hieronder je code"
   ]
  }
 ],
 "metadata": {
  "kernelspec": {
   "display_name": "Python 3",
   "language": "python",
   "name": "python3"
  },
  "language_info": {
   "codemirror_mode": {
    "name": "ipython",
    "version": 3
   },
   "file_extension": ".py",
   "mimetype": "text/x-python",
   "name": "python",
   "nbconvert_exporter": "python",
   "pygments_lexer": "ipython3",
   "version": "3.7.3"
  },
  "pycharm": {
   "stem_cell": {
    "cell_type": "raw",
    "source": [],
    "metadata": {
     "collapsed": false
    }
   }
  }
 },
 "nbformat": 4,
 "nbformat_minor": 2
}